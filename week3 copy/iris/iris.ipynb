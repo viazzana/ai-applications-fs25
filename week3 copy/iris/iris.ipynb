{
 "cells": [
  {
   "cell_type": "code",
   "execution_count": null,
   "metadata": {},
   "outputs": [],
   "source": [
    "import gradio as gr\n",
    "import pandas as pd\n",
    "import numpy as np\n",
    "from sklearn.datasets import load_iris\n",
    "from sklearn.model_selection import cross_val_score\n",
    "from sklearn.ensemble import RandomForestClassifier\n",
    "\n",
    "# Load dataset\n",
    "iris = load_iris(as_frame=True)\n",
    "X = iris.data\n",
    "y = iris.target"
   ]
  },
  {
   "cell_type": "code",
   "execution_count": null,
   "metadata": {},
   "outputs": [],
   "source": [
    "import seaborn as sns\n",
    "\n",
    "# Rename classes using the iris target names\n",
    "iris.frame[\"target\"] = iris.target_names[iris.target]\n",
    "_ = sns.pairplot(iris.frame, hue=\"target\")"
   ]
  },
  {
   "cell_type": "code",
   "execution_count": null,
   "metadata": {},
   "outputs": [],
   "source": [
    "# Train model with cross-validation\n",
    "model = RandomForestClassifier(random_state=42)\n",
    "cross_val_scores = cross_val_score(model, X, y, cv=5)\n",
    "print(f\"Cross-validation accuracy: {np.mean(cross_val_scores):.4f}\")\n",
    "\n",
    "# Train on the full dataset\n",
    "model.fit(X, y)\n",
    "train_accuracy = model.score(X, y)\n",
    "print(f\"Training accuracy: {train_accuracy:.4f}\")"
   ]
  },
  {
   "cell_type": "code",
   "execution_count": 6,
   "metadata": {},
   "outputs": [],
   "source": [
    "\n",
    "# Gradio UI for prediction\n",
    "def predict(sepal_length, sepal_width, petal_length, petal_width):\n",
    "    input_data = pd.DataFrame([[sepal_length, sepal_width, petal_length, petal_width]],\n",
    "                              columns=iris.feature_names)\n",
    "    prediction = model.predict(input_data)[0]\n",
    "    return iris.target_names[prediction]"
   ]
  },
  {
   "cell_type": "code",
   "execution_count": null,
   "metadata": {},
   "outputs": [],
   "source": [
    "predict(1, 2, 3, 4)"
   ]
  },
  {
   "cell_type": "code",
   "execution_count": null,
   "metadata": {},
   "outputs": [],
   "source": [
    "# Create Gradio interface\n",
    "demo = gr.Interface(\n",
    "    fn=predict,\n",
    "    inputs=[\n",
    "        gr.Number(label=\"Sepal Length\"),\n",
    "        gr.Number(label=\"Sepal Width\"),\n",
    "        gr.Number(label=\"Petal Length\"),\n",
    "        gr.Number(label=\"Petal Width\"),\n",
    "    ],\n",
    "    outputs=\"text\",\n",
    "    examples=[\n",
    "        [5.1, 3.5, 1.4, 0.2],\n",
    "        [6.2, 2.9, 4.3, 1.3],\n",
    "        [7.7, 3.8, 6.7, 2.2],\n",
    "    ],\n",
    "    title=\"Iris Flower Prediction\",\n",
    "    description=\"Enter the sepal and petal measurements to predict the Iris species.\"\n",
    ")\n",
    "\n",
    "demo.launch()\n"
   ]
  },
  {
   "cell_type": "code",
   "execution_count": 9,
   "metadata": {},
   "outputs": [],
   "source": [
    "import pickle\n",
    "\n",
    "# save model to file\n",
    "model_filename = \"iris_random_forest_classifier.pkl\"\n",
    "with open(model_filename, mode=\"bw\") as f:\n",
    "    pickle.dump(model, file=f)"
   ]
  }
 ],
 "metadata": {
  "kernelspec": {
   "display_name": ".venv",
   "language": "python",
   "name": "python3"
  },
  "language_info": {
   "codemirror_mode": {
    "name": "ipython",
    "version": 3
   },
   "file_extension": ".py",
   "mimetype": "text/x-python",
   "name": "python",
   "nbconvert_exporter": "python",
   "pygments_lexer": "ipython3",
   "version": "3.10.16"
  }
 },
 "nbformat": 4,
 "nbformat_minor": 2
}
