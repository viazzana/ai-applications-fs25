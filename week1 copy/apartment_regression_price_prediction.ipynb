{
 "cells": [
  {
   "attachments": {},
   "cell_type": "markdown",
   "id": "1e84aff8",
   "metadata": {},
   "source": [
    "# Apartment price prediction with sklearn"
   ]
  },
  {
   "cell_type": "markdown",
   "id": "d9ca506b",
   "metadata": {},
   "source": [
    "### Libraries and settings"
   ]
  },
  {
   "cell_type": "code",
   "execution_count": 1,
   "id": "3cc498a3",
   "metadata": {},
   "outputs": [],
   "source": [
    "# Libraries\n",
    "import numpy as np\n",
    "import pandas as pd\n",
    "import matplotlib.pyplot as plt\n",
    "from sklearn.ensemble import RandomForestRegressor\n",
    "from sklearn.linear_model import LinearRegression\n",
    "from sklearn.model_selection import train_test_split\n",
    "from sklearn.metrics import root_mean_squared_error"
   ]
  },
  {
   "cell_type": "markdown",
   "id": "514d3419",
   "metadata": {},
   "source": [
    "### Import the apartment data"
   ]
  },
  {
   "cell_type": "code",
   "execution_count": 2,
   "id": "fc8846ed",
   "metadata": {
    "scrolled": true
   },
   "outputs": [
    {
     "name": "stdout",
     "output_type": "stream",
     "text": [
      "(819, 14)\n"
     ]
    },
    {
     "data": {
      "text/html": [
       "<div>\n",
       "<style scoped>\n",
       "    .dataframe tbody tr th:only-of-type {\n",
       "        vertical-align: middle;\n",
       "    }\n",
       "\n",
       "    .dataframe tbody tr th {\n",
       "        vertical-align: top;\n",
       "    }\n",
       "\n",
       "    .dataframe thead th {\n",
       "        text-align: right;\n",
       "    }\n",
       "</style>\n",
       "<table border=\"1\" class=\"dataframe\">\n",
       "  <thead>\n",
       "    <tr style=\"text-align: right;\">\n",
       "      <th></th>\n",
       "      <th>bfs_number</th>\n",
       "      <th>rooms</th>\n",
       "      <th>area</th>\n",
       "      <th>price</th>\n",
       "      <th>postalcode</th>\n",
       "      <th>address</th>\n",
       "      <th>town</th>\n",
       "      <th>description_raw</th>\n",
       "      <th>bfs_name</th>\n",
       "      <th>pop</th>\n",
       "      <th>pop_dens</th>\n",
       "      <th>frg_pct</th>\n",
       "      <th>emp</th>\n",
       "      <th>tax_income</th>\n",
       "    </tr>\n",
       "  </thead>\n",
       "  <tbody>\n",
       "    <tr>\n",
       "      <th>0</th>\n",
       "      <td>118</td>\n",
       "      <td>3.0</td>\n",
       "      <td>49</td>\n",
       "      <td>1441</td>\n",
       "      <td>8630</td>\n",
       "      <td>Neuhusstrasse 6, 8630 Rüti ZH</td>\n",
       "      <td>Rüti ZH</td>\n",
       "      <td>«Gemütliche Wohnung im Grünen»</td>\n",
       "      <td>Rüti (ZH)</td>\n",
       "      <td>12286</td>\n",
       "      <td>1221.272366</td>\n",
       "      <td>24.841283</td>\n",
       "      <td>5053.0</td>\n",
       "      <td>66676</td>\n",
       "    </tr>\n",
       "    <tr>\n",
       "      <th>1</th>\n",
       "      <td>118</td>\n",
       "      <td>3.0</td>\n",
       "      <td>111</td>\n",
       "      <td>2600</td>\n",
       "      <td>8630</td>\n",
       "      <td>Widacherstrasse 5, 8630 Rüti ZH</td>\n",
       "      <td>Rüti ZH</td>\n",
       "      <td>«3 Zimmer-Maisonette-Wohnung»</td>\n",
       "      <td>Rüti (ZH)</td>\n",
       "      <td>12286</td>\n",
       "      <td>1221.272366</td>\n",
       "      <td>24.841283</td>\n",
       "      <td>5053.0</td>\n",
       "      <td>66676</td>\n",
       "    </tr>\n",
       "    <tr>\n",
       "      <th>2</th>\n",
       "      <td>118</td>\n",
       "      <td>3.0</td>\n",
       "      <td>58</td>\n",
       "      <td>1490</td>\n",
       "      <td>8630</td>\n",
       "      <td>Widenweg 14, 8630 Rüti ZH</td>\n",
       "      <td>Rüti ZH</td>\n",
       "      <td>«Ruhig &amp; Grün , Genau was Sie suchen !»</td>\n",
       "      <td>Rüti (ZH)</td>\n",
       "      <td>12286</td>\n",
       "      <td>1221.272366</td>\n",
       "      <td>24.841283</td>\n",
       "      <td>5053.0</td>\n",
       "      <td>66676</td>\n",
       "    </tr>\n",
       "    <tr>\n",
       "      <th>3</th>\n",
       "      <td>118</td>\n",
       "      <td>4.0</td>\n",
       "      <td>118</td>\n",
       "      <td>3240</td>\n",
       "      <td>8630</td>\n",
       "      <td>Rain 1, 8630 Rüti ZH</td>\n",
       "      <td>Rüti ZH</td>\n",
       "      <td>«Gemütliches 4-Zimmer-Reihenhaus in zentraler ...</td>\n",
       "      <td>Rüti (ZH)</td>\n",
       "      <td>12286</td>\n",
       "      <td>1221.272366</td>\n",
       "      <td>24.841283</td>\n",
       "      <td>5053.0</td>\n",
       "      <td>66676</td>\n",
       "    </tr>\n",
       "    <tr>\n",
       "      <th>4</th>\n",
       "      <td>118</td>\n",
       "      <td>3.0</td>\n",
       "      <td>66</td>\n",
       "      <td>1450</td>\n",
       "      <td>8630</td>\n",
       "      <td>Bachtelstrasse 24b, 8630 Rüti ZH</td>\n",
       "      <td>Rüti ZH</td>\n",
       "      <td>«Schöne 3-Zimmerwohnung in ruhigem Quartier»</td>\n",
       "      <td>Rüti (ZH)</td>\n",
       "      <td>12286</td>\n",
       "      <td>1221.272366</td>\n",
       "      <td>24.841283</td>\n",
       "      <td>5053.0</td>\n",
       "      <td>66676</td>\n",
       "    </tr>\n",
       "    <tr>\n",
       "      <th>5</th>\n",
       "      <td>118</td>\n",
       "      <td>2.5</td>\n",
       "      <td>61</td>\n",
       "      <td>1307</td>\n",
       "      <td>8630</td>\n",
       "      <td>Faegswilerstrasse 1, 8630 Rüti ZH</td>\n",
       "      <td>Rüti ZH</td>\n",
       "      <td>«Kleine Attikawohnung mit grossem Charme»</td>\n",
       "      <td>Rüti (ZH)</td>\n",
       "      <td>12286</td>\n",
       "      <td>1221.272366</td>\n",
       "      <td>24.841283</td>\n",
       "      <td>5053.0</td>\n",
       "      <td>66676</td>\n",
       "    </tr>\n",
       "    <tr>\n",
       "      <th>6</th>\n",
       "      <td>88</td>\n",
       "      <td>3.5</td>\n",
       "      <td>65</td>\n",
       "      <td>1850</td>\n",
       "      <td>8173</td>\n",
       "      <td>Zürcherstrasse 1, 8173 Neerach</td>\n",
       "      <td>Neerach</td>\n",
       "      <td>«Attraktive 3.5-Zimmer-EG-Wohnung in Neerach»</td>\n",
       "      <td>Neerach</td>\n",
       "      <td>3175</td>\n",
       "      <td>525.662252</td>\n",
       "      <td>13.322835</td>\n",
       "      <td>641.0</td>\n",
       "      <td>110502</td>\n",
       "    </tr>\n",
       "    <tr>\n",
       "      <th>7</th>\n",
       "      <td>88</td>\n",
       "      <td>3.5</td>\n",
       "      <td>101</td>\n",
       "      <td>2420</td>\n",
       "      <td>8173</td>\n",
       "      <td>Vogtmühlestrasse 2, 8173 Neerach</td>\n",
       "      <td>Neerach</td>\n",
       "      <td>«Wohnen im steuergünstigen Neerach»</td>\n",
       "      <td>Neerach</td>\n",
       "      <td>3175</td>\n",
       "      <td>525.662252</td>\n",
       "      <td>13.322835</td>\n",
       "      <td>641.0</td>\n",
       "      <td>110502</td>\n",
       "    </tr>\n",
       "    <tr>\n",
       "      <th>8</th>\n",
       "      <td>88</td>\n",
       "      <td>2.5</td>\n",
       "      <td>68</td>\n",
       "      <td>2060</td>\n",
       "      <td>8173</td>\n",
       "      <td>Vogtmühlestrasse 2, 8173 Neerach</td>\n",
       "      <td>Neerach</td>\n",
       "      <td>«Wohnen im steuergünstigen Neerach»</td>\n",
       "      <td>Neerach</td>\n",
       "      <td>3175</td>\n",
       "      <td>525.662252</td>\n",
       "      <td>13.322835</td>\n",
       "      <td>641.0</td>\n",
       "      <td>110502</td>\n",
       "    </tr>\n",
       "    <tr>\n",
       "      <th>9</th>\n",
       "      <td>88</td>\n",
       "      <td>5.5</td>\n",
       "      <td>191</td>\n",
       "      <td>3400</td>\n",
       "      <td>8173</td>\n",
       "      <td>Steinmaurstrasse 19B, 8173 Neerach</td>\n",
       "      <td>Neerach</td>\n",
       "      <td>«Traumhaft schöne 5 1/2 Zimmer Maisonette-Wohn...</td>\n",
       "      <td>Neerach</td>\n",
       "      <td>3175</td>\n",
       "      <td>525.662252</td>\n",
       "      <td>13.322835</td>\n",
       "      <td>641.0</td>\n",
       "      <td>110502</td>\n",
       "    </tr>\n",
       "  </tbody>\n",
       "</table>\n",
       "</div>"
      ],
      "text/plain": [
       "   bfs_number  rooms  area  price  postalcode  \\\n",
       "0         118    3.0    49   1441        8630   \n",
       "1         118    3.0   111   2600        8630   \n",
       "2         118    3.0    58   1490        8630   \n",
       "3         118    4.0   118   3240        8630   \n",
       "4         118    3.0    66   1450        8630   \n",
       "5         118    2.5    61   1307        8630   \n",
       "6          88    3.5    65   1850        8173   \n",
       "7          88    3.5   101   2420        8173   \n",
       "8          88    2.5    68   2060        8173   \n",
       "9          88    5.5   191   3400        8173   \n",
       "\n",
       "                              address      town  \\\n",
       "0       Neuhusstrasse 6, 8630 Rüti ZH   Rüti ZH   \n",
       "1     Widacherstrasse 5, 8630 Rüti ZH   Rüti ZH   \n",
       "2           Widenweg 14, 8630 Rüti ZH   Rüti ZH   \n",
       "3                Rain 1, 8630 Rüti ZH   Rüti ZH   \n",
       "4    Bachtelstrasse 24b, 8630 Rüti ZH   Rüti ZH   \n",
       "5   Faegswilerstrasse 1, 8630 Rüti ZH   Rüti ZH   \n",
       "6      Zürcherstrasse 1, 8173 Neerach   Neerach   \n",
       "7    Vogtmühlestrasse 2, 8173 Neerach   Neerach   \n",
       "8    Vogtmühlestrasse 2, 8173 Neerach   Neerach   \n",
       "9  Steinmaurstrasse 19B, 8173 Neerach   Neerach   \n",
       "\n",
       "                                     description_raw   bfs_name    pop  \\\n",
       "0                     «Gemütliche Wohnung im Grünen»  Rüti (ZH)  12286   \n",
       "1                      «3 Zimmer-Maisonette-Wohnung»  Rüti (ZH)  12286   \n",
       "2            «Ruhig & Grün , Genau was Sie suchen !»  Rüti (ZH)  12286   \n",
       "3  «Gemütliches 4-Zimmer-Reihenhaus in zentraler ...  Rüti (ZH)  12286   \n",
       "4       «Schöne 3-Zimmerwohnung in ruhigem Quartier»  Rüti (ZH)  12286   \n",
       "5          «Kleine Attikawohnung mit grossem Charme»  Rüti (ZH)  12286   \n",
       "6      «Attraktive 3.5-Zimmer-EG-Wohnung in Neerach»    Neerach   3175   \n",
       "7                «Wohnen im steuergünstigen Neerach»    Neerach   3175   \n",
       "8                «Wohnen im steuergünstigen Neerach»    Neerach   3175   \n",
       "9  «Traumhaft schöne 5 1/2 Zimmer Maisonette-Wohn...    Neerach   3175   \n",
       "\n",
       "      pop_dens    frg_pct     emp  tax_income  \n",
       "0  1221.272366  24.841283  5053.0       66676  \n",
       "1  1221.272366  24.841283  5053.0       66676  \n",
       "2  1221.272366  24.841283  5053.0       66676  \n",
       "3  1221.272366  24.841283  5053.0       66676  \n",
       "4  1221.272366  24.841283  5053.0       66676  \n",
       "5  1221.272366  24.841283  5053.0       66676  \n",
       "6   525.662252  13.322835   641.0      110502  \n",
       "7   525.662252  13.322835   641.0      110502  \n",
       "8   525.662252  13.322835   641.0      110502  \n",
       "9   525.662252  13.322835   641.0      110502  "
      ]
     },
     "execution_count": 2,
     "metadata": {},
     "output_type": "execute_result"
    }
   ],
   "source": [
    "# Read and select variables\n",
    "df_orig = pd.read_csv(\"original_apartment_data_analytics_hs24.csv\", sep=\",\", encoding='utf-8')\n",
    "\n",
    "# Remove missing values\n",
    "df = df_orig.dropna()\n",
    "# Remove duplicates\n",
    "df = df.drop_duplicates()\n",
    "\n",
    "print(df.shape)\n",
    "df.head(10)"
   ]
  },
  {
   "cell_type": "code",
   "execution_count": 3,
   "id": "0cdf851d",
   "metadata": {},
   "outputs": [
    {
     "data": {
      "text/plain": [
       "Index(['bfs_number', 'rooms', 'area', 'price', 'postalcode', 'address', 'town',\n",
       "       'description_raw', 'bfs_name', 'pop', 'pop_dens', 'frg_pct', 'emp',\n",
       "       'tax_income'],\n",
       "      dtype='object')"
      ]
     },
     "execution_count": 3,
     "metadata": {},
     "output_type": "execute_result"
    }
   ],
   "source": [
    "# Meaning of variables:\n",
    "# bfs_number: official municipality id\n",
    "# bfs_name: official municipality name\n",
    "# pop: number of residents (=population)\n",
    "# pop_dens: population density (pop per km2)\n",
    "# frg_pct: percentage foreigners\n",
    "# emp: numer of employees\n",
    "\n",
    "df.columns"
   ]
  },
  {
   "cell_type": "markdown",
   "id": "62d8d06c",
   "metadata": {},
   "source": [
    "### Train/Test splitting"
   ]
  },
  {
   "cell_type": "code",
   "execution_count": 4,
   "id": "4b096afe",
   "metadata": {},
   "outputs": [],
   "source": [
    "# Create train and test samples\n",
    "X_train, X_test, y_train, y_test = train_test_split(df[['rooms', 'area', 'pop', 'pop_dens', 'frg_pct',\n",
    "                                                        'emp', 'tax_income']], \n",
    "                                                         df['price'], \n",
    "                                                        test_size=0.20, \n",
    "                                                        random_state=42)"
   ]
  },
  {
   "cell_type": "markdown",
   "id": "1ec39ee0",
   "metadata": {},
   "source": [
    "<hr >\n",
    "\n",
    "### Training the models\n",
    "\n",
    "#### Questions\n",
    "- What does the score represent? \n",
    "- How is the root mean squared error calculated?\n",
    "- How good are the model performing? 1=bad, 10=perfect\n",
    "- Is the LinearRegression model overfitting or underfitting?\n",
    "- Is the RandomForestRegressor overfitting or underfitting?\n"
   ]
  },
  {
   "cell_type": "code",
   "execution_count": 5,
   "id": "581471a2",
   "metadata": {},
   "outputs": [
    {
     "name": "stdout",
     "output_type": "stream",
     "text": [
      "Train score:  0.565204508233528\n",
      "Test score:  0.4293744434882629\n",
      "Train RMSE:  831.6459165973971\n",
      "Test RMSE:  974.2410194498966\n"
     ]
    }
   ],
   "source": [
    "# train linear_model = LinearRegression()\n",
    "linear_model = LinearRegression()\n",
    "\n",
    "# Fit the model\n",
    "linear_model.fit(X_train, y_train)\n",
    "print(\"Train score: \", linear_model.score(X_train, y_train))\n",
    "print(\"Test score: \", linear_model.score(X_test, y_test))\n",
    "\n",
    "print(\"Train RMSE: \", root_mean_squared_error(y_train, linear_model.predict(X_train)))\n",
    "print(\"Test RMSE: \", root_mean_squared_error(y_test, linear_model.predict(X_test)))\n",
    " "
   ]
  },
  {
   "cell_type": "code",
   "execution_count": 6,
   "id": "e88abd75",
   "metadata": {},
   "outputs": [
    {
     "name": "stdout",
     "output_type": "stream",
     "text": [
      "Train score:  0.884608385311586\n",
      "Test score:  0.440914470941871\n",
      "Train RMSE:  428.4331515279763\n",
      "Test RMSE:  964.3394368262468\n"
     ]
    }
   ],
   "source": [
    "# train random_forest_model = RandomForestRegressor()\n",
    "random_forest_model = RandomForestRegressor(random_state=42)\n",
    "\n",
    "# Fit the model\n",
    "random_forest_model.fit(X_train, y_train)\n",
    "print(\"Train score: \", random_forest_model.score(X_train, y_train))\n",
    "print(\"Test score: \", random_forest_model.score(X_test, y_test))\n",
    "\n",
    "print(\"Train RMSE: \", root_mean_squared_error(y_train, random_forest_model.predict(X_train)))\n",
    "print(\"Test RMSE: \", root_mean_squared_error(y_test, random_forest_model.predict(X_test)))"
   ]
  },
  {
   "cell_type": "markdown",
   "id": "f47d36fb",
   "metadata": {},
   "source": [
    "<hr >"
   ]
  },
  {
   "cell_type": "markdown",
   "id": "047d5483",
   "metadata": {},
   "source": [
    "### Random Forest feature importance"
   ]
  },
  {
   "cell_type": "code",
   "execution_count": 7,
   "id": "0e709a3a",
   "metadata": {},
   "outputs": [
    {
     "name": "stdout",
     "output_type": "stream",
     "text": [
      "['area' 'rooms' 'pop_dens' 'emp' 'pop' 'tax_income' 'frg_pct']\n",
      "[0.62251098 0.11204652 0.08102542 0.07948476 0.06504973 0.02560862\n",
      " 0.01427396]\n"
     ]
    },
    {
     "data": {
      "text/plain": [
       "<Axes: ylabel='features'>"
      ]
     },
     "execution_count": 7,
     "metadata": {},
     "output_type": "execute_result"
    },
    {
     "data": {
      "image/png": "[encoded data removed]",
      "text/plain": [
       "<Figure size 600x300 with 1 Axes>"
      ]
     },
     "metadata": {},
     "output_type": "display_data"
    }
   ],
   "source": [
    "cols = random_forest_model.feature_names_in_\n",
    "\n",
    "# Derive feature importance from random forest\n",
    "importances = random_forest_model.feature_importances_\n",
    "std         = np.std([tree.feature_importances_ for tree in random_forest_model.estimators_], axis=0)\n",
    "indices     = np.argsort(importances)[::-1]\n",
    "\n",
    "# Print col-names and importances-values\n",
    "print( cols[indices] )\n",
    "print( importances[indices] )\n",
    "\n",
    "# Barplot with feature importance\n",
    "df_fi = pd.DataFrame({'features':cols,'importances': importances})\n",
    "df_fi.sort_values('importances', inplace=True)\n",
    "df_fi.plot(kind='barh', \n",
    "           y='importances',\n",
    "           x='features', \n",
    "           color='darkred', \n",
    "           figsize=(6,3))"
   ]
  },
  {
   "cell_type": "markdown",
   "id": "141a7b40",
   "metadata": {},
   "source": [
    "### Calculate the residuals"
   ]
  },
  {
   "cell_type": "code",
   "execution_count": 8,
   "id": "2f36c652",
   "metadata": {},
   "outputs": [],
   "source": [
    "# make predictions\n",
    "y_train_predict = random_forest_model.predict(X_train)\n",
    "residuals = y_train - y_train_predict"
   ]
  },
  {
   "cell_type": "code",
   "execution_count": 9,
   "id": "92f3cffc",
   "metadata": {},
   "outputs": [
    {
     "data": {
      "image/png": "[encoded data removed]",
      "text/plain": [
       "<Figure size 1000x600 with 1 Axes>"
      ]
     },
     "metadata": {},
     "output_type": "display_data"
    }
   ],
   "source": [
    "# Calculate residuals\n",
    "\n",
    "plt.figure(figsize=(10, 6))\n",
    "plt.scatter(y_train, residuals, alpha=0.5)\n",
    "plt.axhline(y=0, color='r', linestyle='--')\n",
    "plt.xlabel('Actual Prices')\n",
    "plt.ylabel('Residuals')\n",
    "plt.title('Residuals vs Actual Prices')\n",
    "plt.show()"
   ]
  },
  {
   "cell_type": "code",
   "execution_count": 10,
   "id": "f1cb8d25",
   "metadata": {},
   "outputs": [
    {
     "data": {
      "image/png": "[encoded data removed]",
      "text/plain": [
       "<Figure size 800x400 with 1 Axes>"
      ]
     },
     "metadata": {},
     "output_type": "display_data"
    }
   ],
   "source": [
    "# Plot histogram of residuals\n",
    "fig = plt.figure( figsize=(8,4))\n",
    "n, bins, patches = plt.hist(x=residuals, \n",
    "                            bins=20, \n",
    "                            color='blue',\n",
    "                            alpha=0.5\n",
    "                   )\n",
    "\n",
    "# Set labels\n",
    "plt.xlabel('residuals', fontsize=10, labelpad=10)\n",
    "plt.ylabel('frequency', fontsize=10, labelpad=10)\n",
    "plt.title('Histogram of model residuals', fontsize=12, pad=10)\n",
    "\n",
    "plt.show()"
   ]
  },
  {
   "cell_type": "markdown",
   "id": "5302ad72",
   "metadata": {},
   "source": [
    "### Error Analysis\n",
    "\n",
    "Analyse the predictions. See which towns have the largest error."
   ]
  },
  {
   "cell_type": "code",
   "execution_count": 11,
   "id": "f5d0e965",
   "metadata": {},
   "outputs": [
    {
     "name": "stdout",
     "output_type": "stream",
     "text": [
      "     rooms  area     pop     pop_dens    frg_pct      emp  tax_income  \\\n",
      "774    4.5   147   16841  2623.208723  31.013598  20325.0       86973   \n",
      "526    2.5    72   18944  2438.095238  37.785051   7507.0       89522   \n",
      "655    3.5    97   18791  2851.441578  46.117822  18945.0       65678   \n",
      "581    3.5    83   24990  1486.615110  25.994398  14163.0       68951   \n",
      "380    1.0    39  113173  1662.597326  24.535004  73339.0       70966   \n",
      "\n",
      "     recidual (error)  price  predicted_price  \n",
      "774            212.45   3980          4192.45  \n",
      "526             93.85   1787          1880.85  \n",
      "655            177.04   2210          2387.04  \n",
      "581            159.34   1920          2079.34  \n",
      "380             16.08   1265          1248.92  \n"
     ]
    }
   ],
   "source": [
    "# get all predictions for the training set.\n",
    "y_train_predict = random_forest_model.predict(X_train)\n",
    "df_with_residual = pd.DataFrame(X_train, columns=X_train.columns, copy=True)\n",
    "df_with_residual['recidual (error)'] = np.abs(y_train_predict - y_train)\n",
    "df_with_residual['price'] = y_train\n",
    "df_with_residual['predicted_price'] = y_train_predict\n",
    "print(df_with_residual.head())\n",
    "# Add text, postalcode and town name\n",
    "# we use join instead of merge, because we 'join' on the index column and do not perform a merge using a specific column\n",
    "df_with_residual = df_with_residual.join(df[['description_raw', 'bfs_name', 'postalcode', 'town']])"
   ]
  },
  {
   "cell_type": "code",
   "execution_count": 12,
   "id": "00d6b175",
   "metadata": {},
   "outputs": [
    {
     "data": {
      "text/plain": [
       "pop     bfs_name     \n",
       "420217  Zürich           63\n",
       "35007   Uster             2\n",
       "4840    Oetwil am See     1\n",
       "7228    Oberglatt         1\n",
       "9345    Niederhasli       1\n",
       "16841   Wallisellen       1\n",
       "dtype: int64"
      ]
     },
     "execution_count": 12,
     "metadata": {},
     "output_type": "execute_result"
    }
   ],
   "source": [
    "# check which location has the largest errors.\n",
    "df_with_residual[(df_with_residual['recidual (error)'] > 500)].groupby(['pop', 'bfs_name']).size().sort_values(ascending=False)"
   ]
  },
  {
   "cell_type": "code",
   "execution_count": 13,
   "id": "2f849770",
   "metadata": {},
   "outputs": [],
   "source": [
    "\n",
    "df_with_residual[(df_with_residual['recidual (error)'] > 500)]['description_raw'].to_csv('data_with_large_residuals.csv', \n",
    "          sep=\",\", \n",
    "          encoding='utf-8',\n",
    "          index=False)"
   ]
  }
 ],
 "metadata": {
  "kernelspec": {
   "display_name": ".venv",
   "language": "python",
   "name": "python3"
  },
  "language_info": {
   "codemirror_mode": {
    "name": "ipython",
    "version": 3
   },
   "file_extension": ".py",
   "mimetype": "text/x-python",
   "name": "python",
   "nbconvert_exporter": "python",
   "pygments_lexer": "ipython3",
   "version": "3.10.16"
  }
 },
 "nbformat": 4,
 "nbformat_minor": 5
}
